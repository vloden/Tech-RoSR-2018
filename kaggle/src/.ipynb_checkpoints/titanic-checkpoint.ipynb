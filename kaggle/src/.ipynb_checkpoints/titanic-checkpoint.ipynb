{
 "cells": [
  {
   "cell_type": "code",
   "execution_count": null,
   "metadata": {
    "_cell_guid": "b1076dfc-b9ad-4769-8c92-a6c4dae69d19",
    "_uuid": "8f2839f25d086af736a60e9eeb907d3b93b6e0e5",
    "collapsed": true
   },
   "outputs": [],
   "source": [
    "# This Python 3 environment comes with many helpful analytics libraries installed\n",
    "# It is defined by the kaggle/python docker image: https://github.com/kaggle/docker-python\n",
    "# For example, here's several helpful packages to load in \n",
    "\n",
    "import numpy as np # linear algebra\n",
    "import pandas as pd # data processing, CSV file I/O (e.g. pd.read_csv)\n",
    "import matplotlib.pyplot as plt # plotting\n",
    "import seaborn as sns\n",
    "from sklearn.ensemble import GradientBoostingClassifier as GBC\n",
    "\n",
    "# Input data files are available in the \"../input/\" directory.\n",
    "# Any results you write to the current directory are saved as output."
   ]
  },
  {
   "cell_type": "code",
   "execution_count": null,
   "metadata": {
    "_uuid": "469c3a223a483a3c7cf028565c57a6208ae3647d",
    "collapsed": true
   },
   "outputs": [],
   "source": [
    "def plot_hist_discrete(data, column):\n",
    "    plt.figure(figsize=(16, 8))\n",
    "    bins = data[column].nunique()\n",
    "    plt.hist([data[data['Survived'] == 1.0][column].dropna(), data[data['Survived'] == 0.0][column].dropna()], color=['g','r'], \n",
    "             alpha=0.5, bins=bins, label=['alive', 'dead'])\n",
    "    plt.xticks(data[column].drop_duplicates().dropna())\n",
    "    plt.title(column)\n",
    "    plt.legend()\n",
    "    plt.grid()\n",
    "    plt.show()\n",
    "    \n",
    "def plot_hist_numeric(data, column):\n",
    "    plt.figure(figsize=(16, 8))\n",
    "    sns.distplot(data[data['Survived'] == 1.0][column].dropna(), color = 'green', label='alive')\n",
    "    sns.distplot(data[data['Survived'] == 0.0][column].dropna(), color = 'red', label='dead')\n",
    "    plt.legend()\n",
    "    plt.grid()\n",
    "    plt.show()"
   ]
  },
  {
   "cell_type": "code",
   "execution_count": null,
   "metadata": {
    "_uuid": "d4bbec81425d6a861eb18dbea9936219de622f8f",
    "collapsed": true
   },
   "outputs": [],
   "source": [
    "np.random.seed(42)"
   ]
  },
  {
   "cell_type": "code",
   "execution_count": null,
   "metadata": {
    "_cell_guid": "79c7e3d0-c299-4dcb-8224-4455121ee9b0",
    "_uuid": "d629ff2d2480ee46fbb7e2d37f6b5fab8052498a",
    "collapsed": true
   },
   "outputs": [],
   "source": [
    "train = pd.read_csv('../input/train.csv')\n",
    "test = pd.read_csv('../input/test.csv')"
   ]
  },
  {
   "cell_type": "code",
   "execution_count": null,
   "metadata": {
    "_uuid": "dcc2e7890b66b6cc2b4d1e41092778627b065223",
    "collapsed": true
   },
   "outputs": [],
   "source": [
    "train"
   ]
  },
  {
   "cell_type": "code",
   "execution_count": null,
   "metadata": {
    "_uuid": "69a23bb6c740d34600f2bec114974ca9537bc381",
    "collapsed": true
   },
   "outputs": [],
   "source": [
    "# Class affects survival chances \n",
    "plot_hist_discrete(train, 'Pclass')"
   ]
  },
  {
   "cell_type": "code",
   "execution_count": null,
   "metadata": {
    "_uuid": "488c2bf6c8a2a033f57621374e54727ca3c63881",
    "collapsed": true
   },
   "outputs": [],
   "source": [
    "# Sex affects survival chances\n",
    "plot_hist_discrete(train, 'Sex')"
   ]
  },
  {
   "cell_type": "code",
   "execution_count": null,
   "metadata": {
    "_uuid": "f10ac05a296b743932360a79aafbaae389aec524",
    "collapsed": true
   },
   "outputs": [],
   "source": [
    "# Age slightly affects survival chances\n",
    "plot_hist_numeric(train, 'Age')"
   ]
  },
  {
   "cell_type": "code",
   "execution_count": null,
   "metadata": {
    "_uuid": "a8da7ef5e0fb0e77c34cd2d8356b1d202f41f4ae",
    "collapsed": true
   },
   "outputs": [],
   "source": [
    "# SibSp doesn't affect survival chances\n",
    "plot_hist_discrete(train, 'SibSp')"
   ]
  },
  {
   "cell_type": "code",
   "execution_count": null,
   "metadata": {
    "_uuid": "c52421467dda6d2f52d5942c124c8be154a20dd0",
    "collapsed": true
   },
   "outputs": [],
   "source": [
    "# Parch slightly affects survival chances\n",
    "plot_hist_discrete(train, 'Parch')"
   ]
  },
  {
   "cell_type": "code",
   "execution_count": null,
   "metadata": {
    "_uuid": "b03d22b94a9ce9dc1c8b9daed8124971a8ad02c6",
    "collapsed": true
   },
   "outputs": [],
   "source": [
    "# Fare affects survival chances\n",
    "plot_hist_numeric(train, 'Fare')"
   ]
  },
  {
   "cell_type": "code",
   "execution_count": null,
   "metadata": {
    "_uuid": "66e9f5dc390293baa951ad15511bebe85ac492c7",
    "collapsed": true
   },
   "outputs": [],
   "source": [
    "# Embarkation slightly affects survival chances\n",
    "plot_hist_discrete(train, 'Embarked')"
   ]
  },
  {
   "cell_type": "code",
   "execution_count": null,
   "metadata": {
    "_uuid": "7c5e305c1999d733827731f606028ff88c86a4bc",
    "collapsed": true
   },
   "outputs": [],
   "source": [
    "train_processed = train.drop(columns=['PassengerId', 'Name', 'SibSp', 'Ticket', 'Cabin'])\n",
    "train_processed['Sex'].replace({'male': 0, 'female': 1}, inplace=True)\n",
    "train_processed['Embarked'].replace({'C': 0, 'S': 1, 'Q': 2}, inplace=True)\n",
    "\n",
    "X_tr, y_tr = train_processed.drop(columns='Survived'), train_processed.loc[:, 'Survived']"
   ]
  },
  {
   "cell_type": "code",
   "execution_count": null,
   "metadata": {
    "_uuid": "f3f630549f324bd06a0ac0350ff00165b26acbae",
    "collapsed": true
   },
   "outputs": [],
   "source": [
    "test_processed = test.drop(columns=['Name', 'SibSp', 'Ticket', 'Cabin'])\n",
    "test_processed['Sex'].replace({'male': 0, 'female': 1}, inplace=True)\n",
    "test_processed['Embarked'].replace({'C': 0, 'S': 1, 'Q': 2}, inplace=True)\n",
    "\n",
    "id_ts, X_ts = test_processed.loc[:, 'PassengerId'], test_processed.drop(columns=['PassengerId'])"
   ]
  },
  {
   "cell_type": "code",
   "execution_count": null,
   "metadata": {
    "_uuid": "270b23f9e36ee72a91590382c7036b11cffc7280",
    "collapsed": true
   },
   "outputs": [],
   "source": [
    "X_tr_plus = X_tr.copy()\n",
    "X_ts_plus = X_ts.copy()\n",
    "\n",
    "for col in (col for col in X_tr.columns if X_tr[col].isnull().any()):\n",
    "    X_tr_plus[col + '_was_missing'] = X_tr_plus[col].isnull()\n",
    "    \n",
    "for col in (col for col in X_ts.columns if X_ts[col].isnull().any()):\n",
    "    X_ts_plus[col + '_was_missing'] = X_ts_plus[col].isnull()  \n",
    "    \n",
    "X_tr_plus.fillna({'Age': X_tr['Age'].mean(), 'Embarked': 3}, inplace=True)\n",
    "X_ts_plus.fillna({'Age': X_ts['Age'].mean(), 'Fare': X_ts['Fare'].mean()}, inplace=True)"
   ]
  },
  {
   "cell_type": "code",
   "execution_count": null,
   "metadata": {
    "_uuid": "c62206255c4c1275bedf347bb70ef245b36fbdac",
    "collapsed": true
   },
   "outputs": [],
   "source": [
    "model = GBC()\n",
    "model.fit(X_tr_plus, y_tr)\n",
    "ans = model.predict(X_ts_plus)"
   ]
  },
  {
   "cell_type": "code",
   "execution_count": null,
   "metadata": {
    "_uuid": "87a812b26735003e2c87c9b30ed9846ac1ed775d",
    "collapsed": true
   },
   "outputs": [],
   "source": [
    "answer = pd.concat([id_ts, pd.Series(ans, name='Survived')], axis=1)\n",
    "answer.to_csv('answer.csv')"
   ]
  }
 ],
 "metadata": {
  "kernelspec": {
   "display_name": "Python 3",
   "language": "python",
   "name": "python3"
  },
  "language_info": {
   "codemirror_mode": {
    "name": "ipython",
    "version": 3
   },
   "file_extension": ".py",
   "mimetype": "text/x-python",
   "name": "python",
   "nbconvert_exporter": "python",
   "pygments_lexer": "ipython3",
   "version": "3.6.0"
  }
 },
 "nbformat": 4,
 "nbformat_minor": 1
}
